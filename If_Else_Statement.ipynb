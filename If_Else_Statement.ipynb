{
 "cells": [
  {
   "cell_type": "markdown",
   "id": "24ce3b8c",
   "metadata": {},
   "source": [
    "# If Else Statement Practice"
   ]
  },
  {
   "cell_type": "code",
   "execution_count": 1,
   "id": "44011686",
   "metadata": {},
   "outputs": [],
   "source": [
    "number = 3\n"
   ]
  },
  {
   "cell_type": "code",
   "execution_count": 2,
   "id": "9a94d430",
   "metadata": {},
   "outputs": [
    {
     "name": "stdout",
     "output_type": "stream",
     "text": [
      "Positive\n"
     ]
    }
   ],
   "source": [
    "if number > 0:\n",
    "    print(\"Positive\")\n",
    "elif number < 0:\n",
    "    print(\"Negative\")\n",
    "else:\n",
    "    print(\"Zero\")"
   ]
  },
  {
   "cell_type": "code",
   "execution_count": 3,
   "id": "2465baf6",
   "metadata": {},
   "outputs": [
    {
     "name": "stdout",
     "output_type": "stream",
     "text": [
      "You are eligible.\n"
     ]
    }
   ],
   "source": [
    "age = 20\n",
    "if age < 18:\n",
    "    print(\"You are not eligible.\")\n",
    "elif age >= 18:\n",
    "    print(\"You are eligible.\")"
   ]
  },
  {
   "cell_type": "code",
   "execution_count": 4,
   "id": "fc55e09b",
   "metadata": {},
   "outputs": [
    {
     "name": "stdout",
     "output_type": "stream",
     "text": [
      "Odd\n"
     ]
    }
   ],
   "source": [
    "if number % 2 == 0:\n",
    "    print(\"Even\")\n",
    "else:\n",
    "    print(\"Odd\")"
   ]
  },
  {
   "cell_type": "code",
   "execution_count": 6,
   "id": "d2f1c7c8",
   "metadata": {},
   "outputs": [
    {
     "name": "stdout",
     "output_type": "stream",
     "text": [
      "One is less than two\n"
     ]
    }
   ],
   "source": [
    "one = 7\n",
    "two = 10\n",
    "if one > two:\n",
    "    print(\"One is greater than two\")\n",
    "elif one < two:\n",
    "    print(\"One is less than two\")\n",
    "else:\n",
    "    print(\"One is equal to two\")"
   ]
  },
  {
   "cell_type": "code",
   "execution_count": 7,
   "id": "42150eb8",
   "metadata": {},
   "outputs": [
    {
     "name": "stdout",
     "output_type": "stream",
     "text": [
      "Not divisible by 5\n"
     ]
    }
   ],
   "source": [
    "a = 34\n",
    "if a%5 ==0:\n",
    "    print(\"Divisible by 5\")\n",
    "else:\n",
    "    print(\"Not divisible by 5\")"
   ]
  },
  {
   "cell_type": "code",
   "execution_count": 10,
   "id": "2bd81bbe",
   "metadata": {},
   "outputs": [
    {
     "name": "stdout",
     "output_type": "stream",
     "text": [
      "Not a vowel\n"
     ]
    }
   ],
   "source": [
    "vovel = ['a', 'e', 'i', 'o', 'u']\n",
    "word = 'd'\n",
    "for i in vovel:\n",
    "    if word == i:\n",
    "        print(\"Vowel\")\n",
    "        break\n",
    "else:\n",
    "    print(\"Not a vowel\")"
   ]
  },
  {
   "cell_type": "markdown",
   "id": "5cb50ed8",
   "metadata": {},
   "source": [
    "# 🟡 Intermediate Level (8–14)\n"
   ]
  },
  {
   "cell_type": "code",
   "execution_count": 11,
   "id": "079c3987",
   "metadata": {},
   "outputs": [
    {
     "name": "stdout",
     "output_type": "stream",
     "text": [
      "A Grade\n"
     ]
    }
   ],
   "source": [
    "number = 85\n",
    "\n",
    "if number >= 84:\n",
    "    print(\"A Grade\")\n",
    "elif number >= 70:\n",
    "    print(\"B Grade\")\n",
    "elif number >= 60:\n",
    "    print(\"C Grade\")\n",
    "elif number >= 50:\n",
    "    print(\"D Grade\")\n",
    "else:\n",
    "    print(\"F Grade\")"
   ]
  },
  {
   "cell_type": "code",
   "execution_count": 12,
   "id": "a7eef0c7",
   "metadata": {},
   "outputs": [
    {
     "name": "stdout",
     "output_type": "stream",
     "text": [
      "Leap Year\n"
     ]
    }
   ],
   "source": [
    "a = 2000\n",
    "if a%4==0:\n",
    "    print(\"Leap Year\")\n",
    "else:\n",
    "    print(\"Not a Leap Year\")"
   ]
  },
  {
   "cell_type": "code",
   "execution_count": 14,
   "id": "77525df7",
   "metadata": {},
   "outputs": [
    {
     "name": "stdout",
     "output_type": "stream",
     "text": [
      "Login failed\n",
      "You have no admin rights\n"
     ]
    }
   ],
   "source": [
    "username = [\"admin\", \"user1\", \"user2\"]\n",
    "password = [\"admin123\", \"user1123\", \"user2123\"]\n",
    "username_input = input(\"Enter username: \")\n",
    "password_input = input(\"Enter password: \")\n",
    "count = 0\n",
    "if username_input in username and password_input in password:\n",
    "    count =+ 1\n",
    "    print(\"Login successful\")\n",
    "else:\n",
    "    print(\"Login failed\")\n",
    "    count = 0\n",
    "    \n",
    "if count == 0:\n",
    "    print(\"You have no admin rights\")\n",
    "else:\n",
    "    print(\"You have admin rights\")"
   ]
  },
  {
   "cell_type": "code",
   "execution_count": 15,
   "id": "6ce2579f",
   "metadata": {},
   "outputs": [
    {
     "name": "stdout",
     "output_type": "stream",
     "text": [
      "c is the largest\n"
     ]
    }
   ],
   "source": [
    "a,b,c = 10, 20, 30\n",
    "if a > b and a > c:\n",
    "    print(\"a is the largest\")\n",
    "elif b > a and b > c:\n",
    "    print(\"b is the largest\")\n",
    "elif c > a and c > b:\n",
    "    print(\"c is the largest\")"
   ]
  },
  {
   "cell_type": "code",
   "execution_count": 19,
   "id": "489490c4",
   "metadata": {},
   "outputs": [
    {
     "name": "stdout",
     "output_type": "stream",
     "text": [
      "a is not in the range\n"
     ]
    }
   ],
   "source": [
    "a = 49\n",
    "if a in range(50, 100):\n",
    "    print(\"a is in the range\")\n",
    "else:\n",
    "    print(\"a is not in the range\")"
   ]
  },
  {
   "cell_type": "code",
   "execution_count": 21,
   "id": "755bb278",
   "metadata": {},
   "outputs": [
    {
     "name": "stdout",
     "output_type": "stream",
     "text": [
      "Login failed!\n"
     ]
    }
   ],
   "source": [
    "username= []\n",
    "password= []\n",
    "option= int(input(\"enter 1 for signup or 2 for login: \"))\n",
    "if option == 1:\n",
    "    new_username = input(\"Enter new username: \")\n",
    "    new_password = input(\"Enter new password: \")\n",
    "    username.append(new_username)\n",
    "    password.append(new_password)\n",
    "    print(\"Signup successful!\")\n",
    "elif option == 2:\n",
    "    login_username = input(\"Enter username: \")\n",
    "    login_password = input(\"Enter password: \")\n",
    "    if login_username in username and login_password in password:\n",
    "        print(\"Login successful!\")\n",
    "    else:\n",
    "        print(\"Login failed!\")\n",
    "else:\n",
    "    print(\"Invalid option selected. Please try again.\")\n"
   ]
  },
  {
   "cell_type": "code",
   "execution_count": null,
   "id": "bf7efe5f",
   "metadata": {},
   "outputs": [],
   "source": []
  }
 ],
 "metadata": {
  "kernelspec": {
   "display_name": "myen",
   "language": "python",
   "name": "python3"
  },
  "language_info": {
   "codemirror_mode": {
    "name": "ipython",
    "version": 3
   },
   "file_extension": ".py",
   "mimetype": "text/x-python",
   "name": "python",
   "nbconvert_exporter": "python",
   "pygments_lexer": "ipython3",
   "version": "3.12.9"
  }
 },
 "nbformat": 4,
 "nbformat_minor": 5
}
