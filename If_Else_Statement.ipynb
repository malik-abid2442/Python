{
 "cells": [
  {
   "cell_type": "markdown",
   "id": "24ce3b8c",
   "metadata": {},
   "source": [
    "# If Else Statement Practice"
   ]
  },
  {
   "cell_type": "code",
   "execution_count": 1,
   "id": "44011686",
   "metadata": {},
   "outputs": [],
   "source": [
    "number = 3\n"
   ]
  },
  {
   "cell_type": "code",
   "execution_count": 2,
   "id": "9a94d430",
   "metadata": {},
   "outputs": [
    {
     "name": "stdout",
     "output_type": "stream",
     "text": [
      "Positive\n"
     ]
    }
   ],
   "source": [
    "if number > 0:\n",
    "    print(\"Positive\")\n",
    "elif number < 0:\n",
    "    print(\"Negative\")\n",
    "else:\n",
    "    print(\"Zero\")"
   ]
  },
  {
   "cell_type": "code",
   "execution_count": 3,
   "id": "2465baf6",
   "metadata": {},
   "outputs": [
    {
     "name": "stdout",
     "output_type": "stream",
     "text": [
      "You are eligible.\n"
     ]
    }
   ],
   "source": [
    "age = 20\n",
    "if age < 18:\n",
    "    print(\"You are not eligible.\")\n",
    "elif age >= 18:\n",
    "    print(\"You are eligible.\")"
   ]
  },
  {
   "cell_type": "code",
   "execution_count": 4,
   "id": "fc55e09b",
   "metadata": {},
   "outputs": [
    {
     "name": "stdout",
     "output_type": "stream",
     "text": [
      "Odd\n"
     ]
    }
   ],
   "source": [
    "if number % 2 == 0:\n",
    "    print(\"Even\")\n",
    "else:\n",
    "    print(\"Odd\")"
   ]
  },
  {
   "cell_type": "code",
   "execution_count": 6,
   "id": "d2f1c7c8",
   "metadata": {},
   "outputs": [
    {
     "name": "stdout",
     "output_type": "stream",
     "text": [
      "One is less than two\n"
     ]
    }
   ],
   "source": [
    "one = 7\n",
    "two = 10\n",
    "if one > two:\n",
    "    print(\"One is greater than two\")\n",
    "elif one < two:\n",
    "    print(\"One is less than two\")\n",
    "else:\n",
    "    print(\"One is equal to two\")"
   ]
  },
  {
   "cell_type": "code",
   "execution_count": 7,
   "id": "42150eb8",
   "metadata": {},
   "outputs": [
    {
     "name": "stdout",
     "output_type": "stream",
     "text": [
      "Not divisible by 5\n"
     ]
    }
   ],
   "source": [
    "a = 34\n",
    "if a%5 ==0:\n",
    "    print(\"Divisible by 5\")\n",
    "else:\n",
    "    print(\"Not divisible by 5\")"
   ]
  },
  {
   "cell_type": "code",
   "execution_count": 10,
   "id": "2bd81bbe",
   "metadata": {},
   "outputs": [
    {
     "name": "stdout",
     "output_type": "stream",
     "text": [
      "Not a vowel\n"
     ]
    }
   ],
   "source": [
    "vovel = ['a', 'e', 'i', 'o', 'u']\n",
    "word = 'd'\n",
    "for i in vovel:\n",
    "    if word == i:\n",
    "        print(\"Vowel\")\n",
    "        break\n",
    "else:\n",
    "    print(\"Not a vowel\")"
   ]
  },
  {
   "cell_type": "code",
   "execution_count": null,
   "id": "f76ad222",
   "metadata": {},
   "outputs": [],
   "source": []
  }
 ],
 "metadata": {
  "kernelspec": {
   "display_name": "myen",
   "language": "python",
   "name": "python3"
  },
  "language_info": {
   "codemirror_mode": {
    "name": "ipython",
    "version": 3
   },
   "file_extension": ".py",
   "mimetype": "text/x-python",
   "name": "python",
   "nbconvert_exporter": "python",
   "pygments_lexer": "ipython3",
   "version": "3.12.9"
  }
 },
 "nbformat": 4,
 "nbformat_minor": 5
}
