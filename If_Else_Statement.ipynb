{
 "cells": [
  {
   "cell_type": "markdown",
   "id": "24ce3b8c",
   "metadata": {},
   "source": [
    "# If Else Statement Practice"
   ]
  },
  {
   "cell_type": "code",
   "execution_count": 1,
   "id": "44011686",
   "metadata": {},
   "outputs": [],
   "source": [
    "number = 3\n"
   ]
  },
  {
   "cell_type": "code",
   "execution_count": 2,
   "id": "9a94d430",
   "metadata": {},
   "outputs": [
    {
     "name": "stdout",
     "output_type": "stream",
     "text": [
      "Positive\n"
     ]
    }
   ],
   "source": [
    "if number > 0:\n",
    "    print(\"Positive\")\n",
    "elif number < 0:\n",
    "    print(\"Negative\")\n",
    "else:\n",
    "    print(\"Zero\")"
   ]
  },
  {
   "cell_type": "code",
   "execution_count": 3,
   "id": "2465baf6",
   "metadata": {},
   "outputs": [
    {
     "name": "stdout",
     "output_type": "stream",
     "text": [
      "You are eligible.\n"
     ]
    }
   ],
   "source": [
    "age = 20\n",
    "if age < 18:\n",
    "    print(\"You are not eligible.\")\n",
    "elif age >= 18:\n",
    "    print(\"You are eligible.\")"
   ]
  },
  {
   "cell_type": "code",
   "execution_count": 4,
   "id": "fc55e09b",
   "metadata": {},
   "outputs": [
    {
     "name": "stdout",
     "output_type": "stream",
     "text": [
      "Odd\n"
     ]
    }
   ],
   "source": [
    "if number % 2 == 0:\n",
    "    print(\"Even\")\n",
    "else:\n",
    "    print(\"Odd\")"
   ]
  },
  {
   "cell_type": "code",
   "execution_count": 6,
   "id": "d2f1c7c8",
   "metadata": {},
   "outputs": [
    {
     "name": "stdout",
     "output_type": "stream",
     "text": [
      "One is less than two\n"
     ]
    }
   ],
   "source": [
    "one = 7\n",
    "two = 10\n",
    "if one > two:\n",
    "    print(\"One is greater than two\")\n",
    "elif one < two:\n",
    "    print(\"One is less than two\")\n",
    "else:\n",
    "    print(\"One is equal to two\")"
   ]
  },
  {
   "cell_type": "code",
   "execution_count": 7,
   "id": "42150eb8",
   "metadata": {},
   "outputs": [
    {
     "name": "stdout",
     "output_type": "stream",
     "text": [
      "Not divisible by 5\n"
     ]
    }
   ],
   "source": [
    "a = 34\n",
    "if a%5 ==0:\n",
    "    print(\"Divisible by 5\")\n",
    "else:\n",
    "    print(\"Not divisible by 5\")"
   ]
  },
  {
   "cell_type": "code",
   "execution_count": 10,
   "id": "2bd81bbe",
   "metadata": {},
   "outputs": [
    {
     "name": "stdout",
     "output_type": "stream",
     "text": [
      "Not a vowel\n"
     ]
    }
   ],
   "source": [
    "vovel = ['a', 'e', 'i', 'o', 'u']\n",
    "word = 'd'\n",
    "for i in vovel:\n",
    "    if word == i:\n",
    "        print(\"Vowel\")\n",
    "        break\n",
    "else:\n",
    "    print(\"Not a vowel\")"
   ]
  },
  {
   "cell_type": "markdown",
   "id": "5cb50ed8",
   "metadata": {},
   "source": [
    "# 🟡 Intermediate Level (8–14)\n"
   ]
  },
  {
   "cell_type": "code",
   "execution_count": 11,
   "id": "079c3987",
   "metadata": {},
   "outputs": [
    {
     "name": "stdout",
     "output_type": "stream",
     "text": [
      "A Grade\n"
     ]
    }
   ],
   "source": [
    "number = 85\n",
    "\n",
    "if number >= 84:\n",
    "    print(\"A Grade\")\n",
    "elif number >= 70:\n",
    "    print(\"B Grade\")\n",
    "elif number >= 60:\n",
    "    print(\"C Grade\")\n",
    "elif number >= 50:\n",
    "    print(\"D Grade\")\n",
    "else:\n",
    "    print(\"F Grade\")"
   ]
  },
  {
   "cell_type": "code",
   "execution_count": 12,
   "id": "a7eef0c7",
   "metadata": {},
   "outputs": [
    {
     "name": "stdout",
     "output_type": "stream",
     "text": [
      "Leap Year\n"
     ]
    }
   ],
   "source": [
    "a = 2000\n",
    "if a%4==0:\n",
    "    print(\"Leap Year\")\n",
    "else:\n",
    "    print(\"Not a Leap Year\")"
   ]
  },
  {
   "cell_type": "code",
   "execution_count": 14,
   "id": "77525df7",
   "metadata": {},
   "outputs": [
    {
     "name": "stdout",
     "output_type": "stream",
     "text": [
      "Login failed\n",
      "You have no admin rights\n"
     ]
    }
   ],
   "source": [
    "username = [\"admin\", \"user1\", \"user2\"]\n",
    "password = [\"admin123\", \"user1123\", \"user2123\"]\n",
    "username_input = input(\"Enter username: \")\n",
    "password_input = input(\"Enter password: \")\n",
    "count = 0\n",
    "if username_input in username and password_input in password:\n",
    "    count =+ 1\n",
    "    print(\"Login successful\")\n",
    "else:\n",
    "    print(\"Login failed\")\n",
    "    count = 0\n",
    "    \n",
    "if count == 0:\n",
    "    print(\"You have no admin rights\")\n",
    "else:\n",
    "    print(\"You have admin rights\")"
   ]
  },
  {
   "cell_type": "code",
   "execution_count": 15,
   "id": "6ce2579f",
   "metadata": {},
   "outputs": [
    {
     "name": "stdout",
     "output_type": "stream",
     "text": [
      "c is the largest\n"
     ]
    }
   ],
   "source": [
    "a,b,c = 10, 20, 30\n",
    "if a > b and a > c:\n",
    "    print(\"a is the largest\")\n",
    "elif b > a and b > c:\n",
    "    print(\"b is the largest\")\n",
    "elif c > a and c > b:\n",
    "    print(\"c is the largest\")"
   ]
  },
  {
   "cell_type": "code",
   "execution_count": 19,
   "id": "489490c4",
   "metadata": {},
   "outputs": [
    {
     "name": "stdout",
     "output_type": "stream",
     "text": [
      "a is not in the range\n"
     ]
    }
   ],
   "source": [
    "a = 49\n",
    "if a in range(50, 100):\n",
    "    print(\"a is in the range\")\n",
    "else:\n",
    "    print(\"a is not in the range\")"
   ]
  },
  {
   "cell_type": "code",
   "execution_count": 21,
   "id": "755bb278",
   "metadata": {},
   "outputs": [
    {
     "name": "stdout",
     "output_type": "stream",
     "text": [
      "Login failed!\n"
     ]
    }
   ],
   "source": [
    "username= []\n",
    "password= []\n",
    "option= int(input(\"enter 1 for signup or 2 for login: \"))\n",
    "if option == 1:\n",
    "    new_username = input(\"Enter new username: \")\n",
    "    new_password = input(\"Enter new password: \")\n",
    "    username.append(new_username)\n",
    "    password.append(new_password)\n",
    "    print(\"Signup successful!\")\n",
    "elif option == 2:\n",
    "    login_username = input(\"Enter username: \")\n",
    "    login_password = input(\"Enter password: \")\n",
    "    if login_username in username and login_password in password:\n",
    "        print(\"Login successful!\")\n",
    "    else:\n",
    "        print(\"Login failed!\")\n",
    "else:\n",
    "    print(\"Invalid option selected. Please try again.\")\n"
   ]
  },
  {
   "cell_type": "markdown",
   "id": "1429a70d",
   "metadata": {},
   "source": [
    "# 🔵 Advanced Level (15–20)\n"
   ]
  },
  {
   "cell_type": "code",
   "execution_count": 24,
   "id": "c06f15f0",
   "metadata": {},
   "outputs": [
    {
     "name": "stdout",
     "output_type": "stream",
     "text": [
      "3. Scalene Triangle\n"
     ]
    }
   ],
   "source": [
    "a = 5\n",
    "b = 2\n",
    "c = 1\n",
    "\n",
    "if a == b and b == c:\n",
    "    print(\"1. Equilateral Triangle\")\n",
    "elif (a == b and a !=c) or (b == c and b != a) or (c == a and c != b):\n",
    "    print(\"2. Isosceles Triangle\")\n",
    "else:\n",
    "    print(\"3. Scalene Triangle\")"
   ]
  },
  {
   "cell_type": "code",
   "execution_count": 34,
   "id": "4e7bea69",
   "metadata": {},
   "outputs": [
    {
     "name": "stdout",
     "output_type": "stream",
     "text": [
      "The word is a palindrome\n"
     ]
    }
   ],
   "source": [
    "word = \"madam\"\n",
    "if str(word) == str(word)[::-1]:\n",
    "    print(\"The word is a palindrome\")\n",
    "else:\n",
    "    print(\"The word is not a palindrome\")"
   ]
  },
  {
   "cell_type": "code",
   "execution_count": 62,
   "id": "7996be65",
   "metadata": {},
   "outputs": [
    {
     "name": "stdout",
     "output_type": "stream",
     "text": [
      "4 is not a prime number\n"
     ]
    }
   ],
   "source": [
    "number = 4\n",
    "\n",
    "if number <= 1:\n",
    "    print(f\"{number} is not a prime number\")\n",
    "elif number == 2:\n",
    "    print(\"2 is a prime number\")\n",
    "else:\n",
    "    for i in range(2, int(number)):\n",
    "        if number % i == 0:\n",
    "            print(f\"{number} is not a prime number\")\n",
    "            break\n",
    "    else:\n",
    "        print(f\"{number} is a prime number\")\n"
   ]
  },
  {
   "cell_type": "code",
   "execution_count": 63,
   "id": "ec36cd98",
   "metadata": {},
   "outputs": [
    {
     "name": "stdout",
     "output_type": "stream",
     "text": [
      "$ is a special symbol.\n"
     ]
    }
   ],
   "source": [
    "#Check the type of character input (digit, letter, or special symbol)\n",
    "char = input(\"Enter a character: \")\n",
    "if char.isdigit():\n",
    "    print(f\"{char} is a digit.\")\n",
    "elif char.isalpha():\n",
    "    print(f\"{char} is a letter.\")\n",
    "else:\n",
    "    print(f\"{char} is a special symbol.\")\n",
    "\n"
   ]
  },
  {
   "cell_type": "code",
   "execution_count": 65,
   "id": "4fe7563a",
   "metadata": {},
   "outputs": [
    {
     "name": "stdout",
     "output_type": "stream",
     "text": [
      "Withdrawal of 2000 denied. Insufficient balance. Current balance: 1000\n"
     ]
    }
   ],
   "source": [
    "# Simulate ATM balance check and withdrawal approval\n",
    "\n",
    "balance = 1000\n",
    "withdrawal_amount = int(input(\"Enter the amount to withdraw: \"))    \n",
    "if balance >= withdrawal_amount:\n",
    "    print(f\"Withdrawal of {withdrawal_amount} approved. New balance: {balance - withdrawal_amount}\")\n",
    "else:\n",
    "    print(f\"Withdrawal of {withdrawal_amount} denied. Insufficient balance. Current balance: {balance}\")"
   ]
  },
  {
   "cell_type": "code",
   "execution_count": null,
   "id": "afb56a6b",
   "metadata": {},
   "outputs": [],
   "source": []
  }
 ],
 "metadata": {
  "kernelspec": {
   "display_name": "myen",
   "language": "python",
   "name": "python3"
  },
  "language_info": {
   "codemirror_mode": {
    "name": "ipython",
    "version": 3
   },
   "file_extension": ".py",
   "mimetype": "text/x-python",
   "name": "python",
   "nbconvert_exporter": "python",
   "pygments_lexer": "ipython3",
   "version": "3.12.9"
  }
 },
 "nbformat": 4,
 "nbformat_minor": 5
}
