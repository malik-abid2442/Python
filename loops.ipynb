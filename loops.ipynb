{
 "cells": [
  {
   "cell_type": "markdown",
   "id": "265d40ca",
   "metadata": {},
   "source": [
    "# Practice of loops"
   ]
  },
  {
   "cell_type": "code",
   "execution_count": 5,
   "id": "81559eda",
   "metadata": {},
   "outputs": [
    {
     "name": "stdout",
     "output_type": "stream",
     "text": [
      "1\n",
      "2\n",
      "3\n",
      "4\n",
      "5\n",
      "6\n",
      "7\n",
      "8\n",
      "9\n",
      "10\n"
     ]
    }
   ],
   "source": [
    "for i in range(1,11):\n",
    "    print(i)"
   ]
  },
  {
   "cell_type": "code",
   "execution_count": 8,
   "id": "61a06751",
   "metadata": {},
   "outputs": [
    {
     "name": "stdout",
     "output_type": "stream",
     "text": [
      "0\n",
      "2\n",
      "4\n",
      "6\n",
      "8\n",
      "10\n",
      "12\n",
      "14\n",
      "16\n",
      "18\n",
      "20\n"
     ]
    }
   ],
   "source": [
    "x = 0\n",
    "while x<=20:\n",
    "    print(x)\n",
    "    x += 2"
   ]
  },
  {
   "cell_type": "code",
   "execution_count": 12,
   "id": "0c244d88",
   "metadata": {},
   "outputs": [
    {
     "name": "stdout",
     "output_type": "stream",
     "text": [
      "1*2 : 2\n",
      "2*2 : 4\n",
      "3*2 : 6\n",
      "4*2 : 8\n",
      "5*2 : 10\n",
      "6*2 : 12\n",
      "7*2 : 14\n",
      "8*2 : 16\n",
      "9*2 : 18\n",
      "10*2 : 20\n"
     ]
    }
   ],
   "source": [
    "n = 2\n",
    "for i in range(1, 11):\n",
    "    print(f'{i}*{n} : {i*n}')\n"
   ]
  },
  {
   "cell_type": "code",
   "execution_count": 22,
   "id": "57986a21",
   "metadata": {},
   "outputs": [
    {
     "name": "stdout",
     "output_type": "stream",
     "text": [
      "Sum of first 5 numbers is: 15\n"
     ]
    }
   ],
   "source": [
    "a = 5\n",
    "sum = 0\n",
    "i = 0\n",
    "while i<=a:\n",
    "    \n",
    "    sum += i\n",
    "    \n",
    "    i += 1\n",
    "print(f'Sum of first {a} numbers is: {sum}')\n"
   ]
  },
  {
   "cell_type": "code",
   "execution_count": 24,
   "id": "c5d100b3",
   "metadata": {},
   "outputs": [
    {
     "name": "stdout",
     "output_type": "stream",
     "text": [
      "1\n",
      "2\n",
      "3\n",
      "4\n",
      "5\n",
      "6\n",
      "7\n",
      "8\n",
      "9\n",
      "10\n"
     ]
    }
   ],
   "source": [
    "l1 = [1, 2, 3, 4, 5, 6, 7, 8, 9, 10]\n",
    "for i in l1:\n",
    "    print(i)\n"
   ]
  },
  {
   "cell_type": "code",
   "execution_count": null,
   "id": "d1bdf2db",
   "metadata": {},
   "outputs": [],
   "source": []
  }
 ],
 "metadata": {
  "kernelspec": {
   "display_name": "base",
   "language": "python",
   "name": "python3"
  },
  "language_info": {
   "codemirror_mode": {
    "name": "ipython",
    "version": 3
   },
   "file_extension": ".py",
   "mimetype": "text/x-python",
   "name": "python",
   "nbconvert_exporter": "python",
   "pygments_lexer": "ipython3",
   "version": "3.12.7"
  }
 },
 "nbformat": 4,
 "nbformat_minor": 5
}
