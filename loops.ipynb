{
 "cells": [
  {
   "cell_type": "markdown",
   "id": "265d40ca",
   "metadata": {},
   "source": [
    "# Practice of loops"
   ]
  },
  {
   "cell_type": "code",
   "execution_count": 5,
   "id": "81559eda",
   "metadata": {},
   "outputs": [
    {
     "name": "stdout",
     "output_type": "stream",
     "text": [
      "1\n",
      "2\n",
      "3\n",
      "4\n",
      "5\n",
      "6\n",
      "7\n",
      "8\n",
      "9\n",
      "10\n"
     ]
    }
   ],
   "source": [
    "for i in range(1,11):\n",
    "    print(i)"
   ]
  },
  {
   "cell_type": "code",
   "execution_count": 8,
   "id": "61a06751",
   "metadata": {},
   "outputs": [
    {
     "name": "stdout",
     "output_type": "stream",
     "text": [
      "0\n",
      "2\n",
      "4\n",
      "6\n",
      "8\n",
      "10\n",
      "12\n",
      "14\n",
      "16\n",
      "18\n",
      "20\n"
     ]
    }
   ],
   "source": [
    "x = 0\n",
    "while x<=20:\n",
    "    print(x)\n",
    "    x += 2"
   ]
  },
  {
   "cell_type": "code",
   "execution_count": 12,
   "id": "0c244d88",
   "metadata": {},
   "outputs": [
    {
     "name": "stdout",
     "output_type": "stream",
     "text": [
      "1*2 : 2\n",
      "2*2 : 4\n",
      "3*2 : 6\n",
      "4*2 : 8\n",
      "5*2 : 10\n",
      "6*2 : 12\n",
      "7*2 : 14\n",
      "8*2 : 16\n",
      "9*2 : 18\n",
      "10*2 : 20\n"
     ]
    }
   ],
   "source": [
    "n = 2\n",
    "for i in range(1, 11):\n",
    "    print(f'{i}*{n} : {i*n}')\n"
   ]
  },
  {
   "cell_type": "code",
   "execution_count": 22,
   "id": "57986a21",
   "metadata": {},
   "outputs": [
    {
     "name": "stdout",
     "output_type": "stream",
     "text": [
      "Sum of first 5 numbers is: 15\n"
     ]
    }
   ],
   "source": [
    "a = 5\n",
    "sum = 0\n",
    "i = 0\n",
    "while i<=a:\n",
    "    \n",
    "    sum += i\n",
    "    \n",
    "    i += 1\n",
    "print(f'Sum of first {a} numbers is: {sum}')\n"
   ]
  },
  {
   "cell_type": "code",
   "execution_count": 24,
   "id": "c5d100b3",
   "metadata": {},
   "outputs": [
    {
     "name": "stdout",
     "output_type": "stream",
     "text": [
      "1\n",
      "2\n",
      "3\n",
      "4\n",
      "5\n",
      "6\n",
      "7\n",
      "8\n",
      "9\n",
      "10\n"
     ]
    }
   ],
   "source": [
    "l1 = [1, 2, 3, 4, 5, 6, 7, 8, 9, 10]\n",
    "for i in l1:\n",
    "    print(i)\n"
   ]
  },
  {
   "cell_type": "code",
   "execution_count": 25,
   "id": "d1bdf2db",
   "metadata": {},
   "outputs": [
    {
     "name": "stdout",
     "output_type": "stream",
     "text": [
      "120\n"
     ]
    }
   ],
   "source": [
    "# Find the factorial of a given number using a loop.\n",
    "n = 5\n",
    "result = 1\n",
    "for i in range(1, n + 1):\n",
    "    result *= i\n",
    "print(result)\n"
   ]
  },
  {
   "cell_type": "code",
   "execution_count": 32,
   "id": "c7d2d4d3",
   "metadata": {},
   "outputs": [
    {
     "name": "stdout",
     "output_type": "stream",
     "text": [
      "10\n",
      "9\n",
      "8\n",
      "7\n",
      "6\n",
      "5\n",
      "4\n",
      "3\n",
      "2\n",
      "1\n"
     ]
    }
   ],
   "source": [
    "l1 = [1, 2, 3, 4, 5, 6, 7, 8, 9, 10]\n",
    "for i in l1:\n",
    "    rev = l1[-i]\n",
    "    print(rev)"
   ]
  },
  {
   "cell_type": "code",
   "execution_count": 33,
   "id": "abdca279",
   "metadata": {},
   "outputs": [
    {
     "name": "stdout",
     "output_type": "stream",
     "text": [
      "The number of vowels in \"hello\" is: 2\n"
     ]
    }
   ],
   "source": [
    "count = 0 \n",
    "word = \"hello\"\n",
    "for i in word:\n",
    "    vovels = \"aeiou\"\n",
    "    if i in vovels:\n",
    "        count += 1\n",
    "print(f'The number of vowels in \"{word}\" is: {count}')"
   ]
  },
  {
   "cell_type": "code",
   "execution_count": 35,
   "id": "7681929e",
   "metadata": {},
   "outputs": [
    {
     "name": "stdout",
     "output_type": "stream",
     "text": [
      "o\n",
      "l\n",
      "l\n",
      "e\n",
      "h\n"
     ]
    }
   ],
   "source": [
    "word = \"hello\"\n",
    "for i in range(1, len(word) + 1):\n",
    "    fab = word[-i]\n",
    "    print(fab)"
   ]
  },
  {
   "cell_type": "code",
   "execution_count": 36,
   "id": "bbdc6acd",
   "metadata": {},
   "outputs": [
    {
     "name": "stdout",
     "output_type": "stream",
     "text": [
      "0\n",
      "1\n",
      "1\n",
      "2\n",
      "3\n",
      "5\n",
      "8\n",
      "13\n",
      "21\n",
      "34\n"
     ]
    }
   ],
   "source": [
    "# Print Fibonacci sequence up to n terms using a loop.\n",
    "n = 10\n",
    "a, b = 0, 1\n",
    "for i in range(n):\n",
    "    print(a)\n",
    "    a, b = b, a + b"
   ]
  },
  {
   "cell_type": "code",
   "execution_count": 38,
   "id": "2e232a24",
   "metadata": {},
   "outputs": [
    {
     "name": "stdout",
     "output_type": "stream",
     "text": [
      "The largest number in the list is: 20\n"
     ]
    }
   ],
   "source": [
    "l1 = [1, 2, 3, 4, 5, 6, 7, 8, 9, 10, 11, 20,12, 13, 14, 15]\n",
    "n = 0\n",
    "for i in l1:\n",
    "    if i >n:\n",
    "        n = i\n",
    "print(f'The largest number in the list is: {n}')"
   ]
  },
  {
   "cell_type": "code",
   "execution_count": 51,
   "id": "587bd52f",
   "metadata": {},
   "outputs": [
    {
     "name": "stdout",
     "output_type": "stream",
     "text": [
      "28 is not a prime number\n"
     ]
    }
   ],
   "source": [
    "# Check if a number is prime using a loop.\n",
    "num = 28\n",
    "for i in range(2, num):\n",
    "    if num % i == 0:\n",
    "        print(f'{num} is not a prime number')\n",
    "        break\n",
    "    else:\n",
    "        print(f'{num} is a prime number')\n",
    "        break\n",
    "    "
   ]
  },
  {
   "cell_type": "code",
   "execution_count": 52,
   "id": "fe319e06",
   "metadata": {},
   "outputs": [
    {
     "name": "stdout",
     "output_type": "stream",
     "text": [
      "You typed: abid\n",
      "You typed: ni\n",
      "You typed: exit   \n",
      "You typed: exit  \n",
      "Exiting the loop.\n"
     ]
    }
   ],
   "source": [
    "# Create a loop that keeps asking the user for input until they type \"exit\".\n",
    "while True:\n",
    "    user_input = input(\"Type something (type 'exit' to quit): \")\n",
    "    if user_input.lower() == \"exit\":\n",
    "        print(\"Exiting the loop.\")\n",
    "        break\n",
    "    else:\n",
    "        print(f\"You typed: {user_input}\")\n"
   ]
  },
  {
   "cell_type": "code",
   "execution_count": 54,
   "id": "b5b0f20b",
   "metadata": {},
   "outputs": [
    {
     "name": "stdout",
     "output_type": "stream",
     "text": [
      "*\n",
      "**\n",
      "***\n",
      "****\n",
      "*****\n"
     ]
    }
   ],
   "source": [
    "# Print a right-angle triangle pattern of stars (*) using nested loops.\n",
    "\n",
    "n = 5\n",
    "for i in range(1, n + 1):\n",
    "    for j in range(i):\n",
    "        print(\"*\", end=\"\")\n",
    "    print()  # Move to the next line after each row\n"
   ]
  },
  {
   "cell_type": "code",
   "execution_count": 56,
   "id": "45591465",
   "metadata": {},
   "outputs": [
    {
     "name": "stdout",
     "output_type": "stream",
     "text": [
      "1\n",
      "2\n",
      "3\n",
      "4\n",
      "5\n",
      "6\n",
      "7\n",
      "8\n",
      "9\n",
      "10\n",
      "11\n",
      "12\n",
      "13\n",
      "14\n",
      "15\n",
      "16\n",
      "17\n",
      "18\n",
      "19\n",
      "20\n",
      "21\n",
      "22\n",
      "23\n",
      "24\n",
      "25\n",
      "26\n",
      "27\n",
      "28\n",
      "29\n",
      "30\n",
      "31\n",
      "32\n",
      "33\n",
      "34\n",
      "35\n",
      "36\n",
      "37\n",
      "38\n",
      "39\n",
      "40\n",
      "41\n",
      "42\n",
      "43\n",
      "44\n",
      "45\n",
      "46\n",
      "47\n",
      "48\n",
      "49\n",
      "50\n",
      "51\n",
      "52\n",
      "53\n",
      "54\n",
      "55\n",
      "56\n",
      "57\n",
      "58\n",
      "59\n",
      "60\n",
      "61\n",
      "62\n",
      "63\n",
      "64\n",
      "65\n",
      "66\n",
      "67\n",
      "68\n",
      "69\n",
      "70\n",
      "71\n",
      "72\n",
      "73\n",
      "74\n",
      "75\n",
      "76\n",
      "77\n",
      "78\n",
      "79\n",
      "80\n",
      "81\n",
      "82\n",
      "83\n",
      "84\n",
      "85\n",
      "86\n",
      "87\n",
      "88\n",
      "89\n",
      "90\n",
      "91\n",
      "92\n",
      "93\n",
      "94\n",
      "95\n",
      "96\n",
      "97\n",
      "98\n",
      "99\n",
      "100\n"
     ]
    }
   ],
   "source": [
    "for i in range(1, 101):\n",
    "    print(i)"
   ]
  },
  {
   "cell_type": "code",
   "execution_count": 57,
   "id": "2c81f8b5",
   "metadata": {},
   "outputs": [
    {
     "name": "stdout",
     "output_type": "stream",
     "text": [
      "10 * 1 = 10\n",
      "10 * 2 = 20\n",
      "10 * 3 = 30\n",
      "10 * 4 = 40\n",
      "10 * 5 = 50\n",
      "10 * 6 = 60\n",
      "10 * 7 = 70\n",
      "10 * 8 = 80\n",
      "10 * 9 = 90\n",
      "10 * 10 = 100\n"
     ]
    }
   ],
   "source": [
    "number = 10\n",
    "for i in range(1,11):\n",
    "    print(f'{number} * {i} = {number * i}')"
   ]
  },
  {
   "cell_type": "code",
   "execution_count": 59,
   "id": "26014c0b",
   "metadata": {},
   "outputs": [
    {
     "name": "stdout",
     "output_type": "stream",
     "text": [
      "The list is not sorted.\n"
     ]
    }
   ],
   "source": [
    "# Create a loop to check if a given list is sorted without using built-in functions.\n",
    "\n",
    "l1 = [1, 2, 3, 4, 5, 6, 7, 8, 90, 10]\n",
    "while True:\n",
    "    is_sorted = True\n",
    "    for i in range(len(l1) - 1):\n",
    "        if l1[i] > l1[i + 1]:\n",
    "            is_sorted = False\n",
    "            break\n",
    "    if is_sorted:\n",
    "        print(\"The list is sorted.\")\n",
    "    else:\n",
    "        print(\"The list is not sorted.\")\n",
    "    break\n"
   ]
  },
  {
   "cell_type": "code",
   "execution_count": 60,
   "id": "61a9ec86",
   "metadata": {},
   "outputs": [
    {
     "name": "stdout",
     "output_type": "stream",
     "text": [
      "    *\n",
      "   ***\n",
      "  *****\n",
      " *******\n",
      "*********\n"
     ]
    }
   ],
   "source": [
    "# Use nested loops to print a diamond shape pattern with stars.\n",
    "\n",
    "n = 5\n",
    "for i in range(n):\n",
    "    print(' ' * (n - i - 1) + '*' * (2 * i + 1))\n",
    "    "
   ]
  },
  {
   "cell_type": "code",
   "execution_count": 62,
   "id": "ffbc1286",
   "metadata": {},
   "outputs": [
    {
     "name": "stdout",
     "output_type": "stream",
     "text": [
      "Match found!\n"
     ]
    }
   ],
   "source": [
    "number = 10\n",
    "while True:\n",
    "    n = int(input(\"Enter a number to find \"))\n",
    "    if n == number:\n",
    "        print(\"Match found!\")\n",
    "        break"
   ]
  },
  {
   "cell_type": "code",
   "execution_count": 63,
   "id": "2e15c69c",
   "metadata": {},
   "outputs": [
    {
     "name": "stdout",
     "output_type": "stream",
     "text": [
      "The sum is: 15\n"
     ]
    }
   ],
   "source": [
    "num = 5\n",
    "sum = 0\n",
    "for i in range(1,num + 1):\n",
    "    sum += i\n",
    "print(\"The sum is:\", sum)"
   ]
  },
  {
   "cell_type": "code",
   "execution_count": null,
   "id": "d9a4c125",
   "metadata": {},
   "outputs": [
    {
     "name": "stdout",
     "output_type": "stream",
     "text": [
      "[4, 5, 1, 2, 3]\n"
     ]
    }
   ],
   "source": [
    "# Rotate the elements of a list to the right by k positions using loops only.\n",
    "\n",
    "def rotate_list(lst, k):\n",
    "    n = len(lst)\n",
    "    k = k % n  # Handle cases where k is greater than n\n",
    "    for _ in range(k):\n",
    "        last_element = lst[-1]\n",
    "        for i in range(n - 1, 0, -1):\n",
    "            lst[i] = lst[i - 1]\n",
    "        lst[0] = last_element\n",
    "    return lst\n",
    "\n",
    "print(rotate_list([1, 2, 3, 4, 5], 2))  # Output: [4, 5, 1, 2, 3]"
   ]
  },
  {
   "cell_type": "code",
   "execution_count": null,
   "id": "cd0bed17",
   "metadata": {},
   "outputs": [],
   "source": []
  }
 ],
 "metadata": {
  "kernelspec": {
   "display_name": "base",
   "language": "python",
   "name": "python3"
  },
  "language_info": {
   "codemirror_mode": {
    "name": "ipython",
    "version": 3
   },
   "file_extension": ".py",
   "mimetype": "text/x-python",
   "name": "python",
   "nbconvert_exporter": "python",
   "pygments_lexer": "ipython3",
   "version": "3.12.7"
  }
 },
 "nbformat": 4,
 "nbformat_minor": 5
}
