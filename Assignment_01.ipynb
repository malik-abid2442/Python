{
 "cells": [
  {
   "cell_type": "markdown",
   "id": "899ca687",
   "metadata": {},
   "source": [
    "# Assignment 1 for Python\n",
    "# Week 1\n"
   ]
  },
  {
   "cell_type": "code",
   "execution_count": 1,
   "id": "13633060",
   "metadata": {},
   "outputs": [
    {
     "name": "stdout",
     "output_type": "stream",
     "text": [
      "45 degrees Celsius is 113.0 degrees Fahrenheit.\n"
     ]
    }
   ],
   "source": [
    "cel = 45\n",
    "\n",
    "frh = (cel * 9/5) + 32\n",
    "print(f\"{cel} degrees Celsius is {frh} degrees Fahrenheit.\")"
   ]
  },
  {
   "cell_type": "code",
   "execution_count": 2,
   "id": "293df474",
   "metadata": {},
   "outputs": [
    {
     "name": "stdout",
     "output_type": "stream",
     "text": [
      "The area of the triangle is 25.0.\n"
     ]
    }
   ],
   "source": [
    "b = 5\n",
    "h = 10\n",
    "area = (b * h) / 2\n",
    "print(f\"The area of the triangle is {area}.\")"
   ]
  },
  {
   "cell_type": "code",
   "execution_count": 3,
   "id": "d821a171",
   "metadata": {},
   "outputs": [
    {
     "name": "stdout",
     "output_type": "stream",
     "text": [
      "The compound interest is 0.2510176200000003.\n"
     ]
    }
   ],
   "source": [
    "p = 2\n",
    "r = 3\n",
    "t = 4\n",
    "\n",
    "ci = p*(1+(r/100))**t-p\n",
    "print(f\"The compound interest is {ci}.\")"
   ]
  },
  {
   "cell_type": "code",
   "execution_count": 4,
   "id": "e48f34a4",
   "metadata": {},
   "outputs": [
    {
     "name": "stdout",
     "output_type": "stream",
     "text": [
      "The perimeter of the rectangle is 30.\n"
     ]
    }
   ],
   "source": [
    "length = 5\n",
    "width = 10\n",
    "\n",
    "perimeter = 2 * (length + width)\n",
    "print(f\"The perimeter of the rectangle is {perimeter}.\")"
   ]
  },
  {
   "cell_type": "code",
   "execution_count": 6,
   "id": "e62006ea",
   "metadata": {},
   "outputs": [
    {
     "name": "stdout",
     "output_type": "stream",
     "text": [
      "The average of 3, 4, and 5 is 4.\n"
     ]
    }
   ],
   "source": [
    "a,b,c = 3, 4, 5\n",
    "avg = int((a + b + c) / 3)\n",
    "print(f\"The average of {a}, {b}, and {c} is {avg}.\")"
   ]
  },
  {
   "cell_type": "code",
   "execution_count": 7,
   "id": "50e8829b",
   "metadata": {},
   "outputs": [
    {
     "name": "stdout",
     "output_type": "stream",
     "text": [
      "The square of 10 is 100 and the cube is 1000.\n"
     ]
    }
   ],
   "source": [
    "n = 10\n",
    "sq = n**2\n",
    "cube = n**3\n",
    "print(f\"The square of {n} is {sq} and the cube is {cube}.\")"
   ]
  },
  {
   "cell_type": "code",
   "execution_count": 8,
   "id": "5a51fb62",
   "metadata": {},
   "outputs": [
    {
     "name": "stdout",
     "output_type": "stream",
     "text": [
      "When 10 is divided by 5, the remainder is 0 and the quotient is 2.\n"
     ]
    }
   ],
   "source": [
    "n = 10\n",
    "k = 5\n",
    "get = n % k\n",
    "remaining = n // k\n",
    "print(f\"When {n} is divided by {k}, the remainder is {get} and the quotient is {remaining}.\")"
   ]
  },
  {
   "cell_type": "code",
   "execution_count": 9,
   "id": "c2e43a87",
   "metadata": {},
   "outputs": [
    {
     "name": "stdout",
     "output_type": "stream",
     "text": [
      "Each student gets 3 candies.\n",
      "There are 1 candies left.\n"
     ]
    }
   ],
   "source": [
    "# Distribute Items Equally - You have n candies and k students.\n",
    "# Write a program to find:\n",
    "# how many candies each student gets\n",
    "# how many are left\n",
    "n = 10\n",
    "k = 3\n",
    "candies_per_student = n // k\n",
    "leftover_candies = n % k\n",
    "print(f\"Each student gets {candies_per_student} candies.\")\n",
    "print(f\"There are {leftover_candies} candies left.\")"
   ]
  },
  {
   "cell_type": "code",
   "execution_count": 11,
   "id": "71fbfe43",
   "metadata": {},
   "outputs": [
    {
     "name": "stdout",
     "output_type": "stream",
     "text": [
      "The profit is 20.\n",
      "The loss is 20.\n"
     ]
    }
   ],
   "source": [
    "cost = 100\n",
    "sell = 120\n",
    "profit = sell - cost\n",
    "print(f\"The profit is {profit}.\")\n",
    "cost1 = 100\n",
    "sell1 = 80\n",
    "loss = cost1 - sell1\n",
    "\n",
    "print(f\"The loss is {loss}.\")\n"
   ]
  },
  {
   "cell_type": "code",
   "execution_count": 13,
   "id": "bd8080d6",
   "metadata": {},
   "outputs": [
    {
     "name": "stdout",
     "output_type": "stream",
     "text": [
      "The percentage is 100.0%.\n",
      "The average is 3.0.\n",
      "The sum of the numbers is 15.\n"
     ]
    }
   ],
   "source": [
    "a,b,c,d,f = 1, 2, 3, 4, 5\n",
    "sum_of_numbers = a + b + c + d + f\n",
    "perc = (sum_of_numbers / 15) * 100\n",
    "avg = sum_of_numbers / 5\n",
    "print(f\"The percentage is {perc}%.\")\n",
    "print(f\"The average is {avg}.\")\n",
    "print(f\"The sum of the numbers is {sum_of_numbers}.\")"
   ]
  },
  {
   "cell_type": "code",
   "execution_count": 14,
   "id": "4b8092a4",
   "metadata": {},
   "outputs": [
    {
     "name": "stdout",
     "output_type": "stream",
     "text": [
      "The gross salary is 2300.0.\n"
     ]
    }
   ],
   "source": [
    "salary = 1000\n",
    "hra = salary + (salary * 0.2)\n",
    "da = salary * 0.1\n",
    "gross_salary = salary + hra + da\n",
    "print(f\"The gross salary is {gross_salary}.\")\n"
   ]
  },
  {
   "cell_type": "code",
   "execution_count": 15,
   "id": "c2bcd4ec",
   "metadata": {},
   "outputs": [
    {
     "name": "stdout",
     "output_type": "stream",
     "text": [
      "Age in months: 240\n",
      "Age in days: 7300\n"
     ]
    }
   ],
   "source": [
    "age = 20\n",
    "month = age * 12\n",
    "days = age * 365\n",
    "print(f\"Age in months: {month}\")\n",
    "print(f\"Age in days: {days}\")"
   ]
  },
  {
   "cell_type": "code",
   "execution_count": 17,
   "id": "3ed4b824",
   "metadata": {},
   "outputs": [
    {
     "name": "stdout",
     "output_type": "stream",
     "text": [
      "Conversion rate from USD to PKR: 28000 PKR per USD.\n"
     ]
    }
   ],
   "source": [
    "usd = 100\n",
    "pkr = 280\n",
    "conversion_rate = pkr * usd\n",
    "print(f\"Conversion rate from USD to PKR: {conversion_rate} PKR per USD.\")"
   ]
  },
  {
   "cell_type": "code",
   "execution_count": 28,
   "id": "bb042742",
   "metadata": {},
   "outputs": [
    {
     "name": "stdout",
     "output_type": "stream",
     "text": [
      "The sum of the first 3 natural numbers is 6.\n"
     ]
    }
   ],
   "source": [
    "n = 3\n",
    "for i in range(1,n+1):\n",
    "    sum = n * (n + 1) / 2\n",
    "print(f\"The sum of the first {n} natural numbers is {int(sum)}.\")\n"
   ]
  },
  {
   "cell_type": "code",
   "execution_count": 29,
   "id": "36034a69",
   "metadata": {},
   "outputs": [
    {
     "name": "stdout",
     "output_type": "stream",
     "text": [
      "The percentage of correct answers is 80.0%.\n"
     ]
    }
   ],
   "source": [
    "total_ans = 10\n",
    "right = 8\n",
    "percentage = (right/total_ans) * 100\n",
    "print(f\"The percentage of correct answers is {percentage}%.\")"
   ]
  },
  {
   "cell_type": "code",
   "execution_count": 30,
   "id": "01988b3f",
   "metadata": {},
   "outputs": [
    {
     "name": "stdout",
     "output_type": "stream",
     "text": [
      "The speed of the vehicle is 50.0 km/h.\n"
     ]
    }
   ],
   "source": [
    "distance = 100  # in kilometers\n",
    "time = 2  # in hours\n",
    "speed = distance / time\n",
    "print(f\"The speed of the vehicle is {speed} km/h.\")"
   ]
  },
  {
   "cell_type": "code",
   "execution_count": 31,
   "id": "70c8ba5b",
   "metadata": {},
   "outputs": [
    {
     "name": "stdout",
     "output_type": "stream",
     "text": [
      "The BMI is 21.30394857667585.\n"
     ]
    }
   ],
   "source": [
    "weight = 58\n",
    "height = 1.65  # in meters\n",
    "bmi = weight / (height ** 2)\n",
    "print(f\"The BMI is {bmi}.\")"
   ]
  },
  {
   "cell_type": "code",
   "execution_count": null,
   "id": "99202ef6",
   "metadata": {},
   "outputs": [
    {
     "name": "stdout",
     "output_type": "stream",
     "text": [
      "Time in hours: 1, minutes: 40\n"
     ]
    }
   ],
   "source": [
    "minutes = 100\n",
    "hours = minutes // 60\n",
    "remaining_minutes = minutes % 60\n",
    "print(f\"Time in hours: {hours}, minutes: {remaining_minutes}\")\n"
   ]
  },
  {
   "cell_type": "code",
   "execution_count": 34,
   "id": "8c7c72e2",
   "metadata": {},
   "outputs": [
    {
     "name": "stdout",
     "output_type": "stream",
     "text": [
      "END OF FIRST ASSIGNMENT\n"
     ]
    }
   ],
   "source": [
    "print(\"END OF FIRST ASSIGNMENT\")"
   ]
  },
  {
   "cell_type": "code",
   "execution_count": null,
   "id": "71ead114",
   "metadata": {},
   "outputs": [],
   "source": []
  }
 ],
 "metadata": {
  "kernelspec": {
   "display_name": "base",
   "language": "python",
   "name": "python3"
  },
  "language_info": {
   "codemirror_mode": {
    "name": "ipython",
    "version": 3
   },
   "file_extension": ".py",
   "mimetype": "text/x-python",
   "name": "python",
   "nbconvert_exporter": "python",
   "pygments_lexer": "ipython3",
   "version": "3.12.7"
  }
 },
 "nbformat": 4,
 "nbformat_minor": 5
}
