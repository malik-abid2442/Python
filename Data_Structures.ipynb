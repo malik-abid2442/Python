{
 "cells": [
  {
   "cell_type": "markdown",
   "id": "4b6d9ef3",
   "metadata": {},
   "source": [
    "# Arrays "
   ]
  },
  {
   "cell_type": "markdown",
   "id": "c1096230",
   "metadata": {},
   "source": [
    "### 1. Create an integer array and print all elements."
   ]
  },
  {
   "cell_type": "code",
   "execution_count": 27,
   "id": "0e7b9d50",
   "metadata": {},
   "outputs": [
    {
     "data": {
      "text/plain": [
       "list"
      ]
     },
     "execution_count": 27,
     "metadata": {},
     "output_type": "execute_result"
    }
   ],
   "source": [
    "numbers = [1,2,3,4,5,6]\n",
    "type(numbers)"
   ]
  },
  {
   "cell_type": "code",
   "execution_count": 2,
   "id": "e9e0dca4",
   "metadata": {},
   "outputs": [
    {
     "name": "stdout",
     "output_type": "stream",
     "text": [
      "1\n",
      "2\n",
      "3\n",
      "4\n",
      "5\n",
      "6\n"
     ]
    }
   ],
   "source": [
    "for number in numbers:\n",
    "    print(number)"
   ]
  },
  {
   "cell_type": "markdown",
   "id": "62a6498d",
   "metadata": {},
   "source": [
    "### 2. Append and insert values into an array.\n"
   ]
  },
  {
   "cell_type": "code",
   "execution_count": 3,
   "id": "8649bc4d",
   "metadata": {},
   "outputs": [],
   "source": [
    "numbers.append(7)"
   ]
  },
  {
   "cell_type": "code",
   "execution_count": 4,
   "id": "655d02ae",
   "metadata": {},
   "outputs": [
    {
     "name": "stdout",
     "output_type": "stream",
     "text": [
      "1\n",
      "2\n",
      "3\n",
      "4\n",
      "5\n",
      "6\n",
      "7\n"
     ]
    }
   ],
   "source": [
    "for number in numbers:\n",
    "    print(number)"
   ]
  },
  {
   "cell_type": "code",
   "execution_count": 10,
   "id": "0fae6e17",
   "metadata": {},
   "outputs": [],
   "source": [
    "numbers.insert(0, 10)"
   ]
  },
  {
   "cell_type": "code",
   "execution_count": 6,
   "id": "5324dc94",
   "metadata": {},
   "outputs": [
    {
     "name": "stdout",
     "output_type": "stream",
     "text": [
      "10\n",
      "1\n",
      "2\n",
      "3\n",
      "4\n",
      "5\n",
      "6\n",
      "7\n"
     ]
    }
   ],
   "source": [
    "for number in numbers:\n",
    "    print(number)"
   ]
  },
  {
   "cell_type": "code",
   "execution_count": 7,
   "id": "d7835aaf",
   "metadata": {},
   "outputs": [
    {
     "name": "stdout",
     "output_type": "stream",
     "text": [
      "7\n",
      "6\n",
      "5\n",
      "4\n",
      "3\n",
      "2\n",
      "1\n",
      "10\n"
     ]
    }
   ],
   "source": [
    "# 3. Reverse the elements of an array.\n",
    "numbers.reverse()\n",
    "for number in numbers:\n",
    "    print(number)"
   ]
  },
  {
   "cell_type": "code",
   "execution_count": 11,
   "id": "527583f5",
   "metadata": {},
   "outputs": [
    {
     "name": "stdout",
     "output_type": "stream",
     "text": [
      "7\n",
      "6\n",
      "5\n",
      "4\n",
      "3\n",
      "2\n",
      "1\n"
     ]
    }
   ],
   "source": [
    "# 4. Remove a specific element from the array.\n",
    "numbers.remove(10)\n",
    "for number in numbers:\n",
    "    print(number)"
   ]
  },
  {
   "cell_type": "code",
   "execution_count": 14,
   "id": "9124e925",
   "metadata": {},
   "outputs": [
    {
     "name": "stdout",
     "output_type": "stream",
     "text": [
      "6\n",
      "5\n",
      "4\n",
      "3\n",
      "2\n",
      "1\n",
      "8\n"
     ]
    }
   ],
   "source": [
    "for number in numbers:\n",
    "    if number==7:\n",
    "        numbers.remove(number)\n",
    "        numbers.append(8)\n",
    "    else:\n",
    "        print(number)\n",
    "    "
   ]
  },
  {
   "cell_type": "code",
   "execution_count": 19,
   "id": "497848b5",
   "metadata": {},
   "outputs": [
    {
     "name": "stdout",
     "output_type": "stream",
     "text": [
      "75\n",
      "85\n",
      "57\n",
      "33\n",
      "53\n",
      "48\n",
      "94\n",
      "83\n",
      "59\n",
      "88\n"
     ]
    }
   ],
   "source": [
    "# 5. Find the maximum and minimum in an array\n",
    "# create random array \n",
    "import random\n",
    "random_numbers = [random.randint(1, 100) for _ in range(10)]\n",
    "for number in random_numbers:\n",
    "    print(number)"
   ]
  },
  {
   "cell_type": "code",
   "execution_count": 20,
   "id": "f0ac9dad",
   "metadata": {},
   "outputs": [
    {
     "name": "stdout",
     "output_type": "stream",
     "text": [
      "94\n",
      "33\n"
     ]
    }
   ],
   "source": [
    "print(max(random_numbers))\n",
    "print(min(random_numbers))"
   ]
  },
  {
   "cell_type": "code",
   "execution_count": 21,
   "id": "692d9416",
   "metadata": {},
   "outputs": [],
   "source": [
    "occurrences = [1,1,2,1,3,4,3,5,6,7,8,9,10]\n",
    "# 6. Count occurrences of a specific element in an array.\n",
    "def count_occurrences(arr, element):\n",
    "    count = 0\n",
    "    for item in arr:\n",
    "        if item == element:\n",
    "            count += 1\n",
    "    return count"
   ]
  },
  {
   "cell_type": "code",
   "execution_count": 22,
   "id": "5c121f5b",
   "metadata": {},
   "outputs": [
    {
     "data": {
      "text/plain": [
       "3"
      ]
     },
     "execution_count": 22,
     "metadata": {},
     "output_type": "execute_result"
    }
   ],
   "source": [
    "count_occurrences(occurrences, 1)"
   ]
  },
  {
   "cell_type": "code",
   "execution_count": 34,
   "id": "8760abf7",
   "metadata": {},
   "outputs": [],
   "source": [
    "list_of_numbers = [occurrences]"
   ]
  },
  {
   "cell_type": "code",
   "execution_count": 35,
   "id": "d961526a",
   "metadata": {},
   "outputs": [
    {
     "name": "stdout",
     "output_type": "stream",
     "text": [
      "[1, 1, 2, 1, 3, 4, 3, 5, 6, 7, 8, 9, 10]\n"
     ]
    }
   ],
   "source": [
    "for number in list_of_numbers:\n",
    "    print(number)"
   ]
  },
  {
   "cell_type": "code",
   "execution_count": 36,
   "id": "70c50a6f",
   "metadata": {},
   "outputs": [
    {
     "data": {
      "text/plain": [
       "list"
      ]
     },
     "execution_count": 36,
     "metadata": {},
     "output_type": "execute_result"
    }
   ],
   "source": [
    "type(list_of_numbers)"
   ]
  },
  {
   "cell_type": "code",
   "execution_count": 26,
   "id": "b7f3916e",
   "metadata": {},
   "outputs": [
    {
     "name": "stdout",
     "output_type": "stream",
     "text": [
      "[1, 1, 2, 1, 3, 4, 3, 5, 6, 7, 8, 9, 10]\n"
     ]
    },
    {
     "data": {
      "text/plain": [
       "list"
      ]
     },
     "execution_count": 26,
     "metadata": {},
     "output_type": "execute_result"
    }
   ],
   "source": [
    "list_to_array = list(list_of_numbers)\n",
    "for number in list_to_array:\n",
    "    print(number)\n",
    "\n",
    "type(list_to_array)"
   ]
  },
  {
   "cell_type": "code",
   "execution_count": 38,
   "id": "0f37c71c",
   "metadata": {},
   "outputs": [
    {
     "name": "stdout",
     "output_type": "stream",
     "text": [
      "99\n",
      "52\n",
      "23\n",
      "50\n",
      "79\n",
      "56\n",
      "68\n",
      "20\n",
      "54\n",
      "71\n"
     ]
    }
   ],
   "source": [
    "import random\n",
    "random_sort = [random.randint(1, 100) for _ in range(10)]\n",
    "for number in random_sort:\n",
    "    print(number)"
   ]
  },
  {
   "cell_type": "code",
   "execution_count": 39,
   "id": "9248f390",
   "metadata": {},
   "outputs": [],
   "source": [
    "def sort_array(arr,count):\n",
    "    for i in range(count):\n",
    "        for j in range(0, count-i-1):\n",
    "            if arr[j] > arr[j+1]:\n",
    "                arr[j], arr[j+1] = arr[j+1], arr[j]\n",
    "    return arr"
   ]
  },
  {
   "cell_type": "code",
   "execution_count": 40,
   "id": "48972bca",
   "metadata": {},
   "outputs": [
    {
     "data": {
      "text/plain": [
       "[20, 23, 50, 52, 54, 56, 68, 71, 79, 99]"
      ]
     },
     "execution_count": 40,
     "metadata": {},
     "output_type": "execute_result"
    }
   ],
   "source": [
    "sort_array(random_sort, len(random_sort))"
   ]
  },
  {
   "cell_type": "code",
   "execution_count": 41,
   "id": "88e9cb6f",
   "metadata": {},
   "outputs": [
    {
     "name": "stdout",
     "output_type": "stream",
     "text": [
      "1\n",
      "2\n",
      "3\n",
      "4\n",
      "5\n",
      "6\n",
      "7\n",
      "8\n",
      "9\n",
      "10\n"
     ]
    }
   ],
   "source": [
    "a = [1, 2, 3, 4, 5]\n",
    "b = [6, 7, 8, 9, 10]\n",
    "c = a + b\n",
    "for number in c:\n",
    "    print(number)"
   ]
  },
  {
   "cell_type": "code",
   "execution_count": 53,
   "id": "4fa133b5",
   "metadata": {},
   "outputs": [
    {
     "name": "stdout",
     "output_type": "stream",
     "text": [
      "3\n",
      "4\n",
      "5\n",
      "1\n",
      "2\n"
     ]
    }
   ],
   "source": [
    "# 10. Rotate array elements by k positions\n",
    "# Given an array of integers and an integer k, rotate the array by k positions.\n",
    "# For example, if the array is [1, 2, 3, 4, 5] and k is 2, the result should be [3, 4, 5, 1, 2].\n",
    "def rotate_array(arr, k):\n",
    "    \n",
    "    return arr[k:] + arr[:k]\n",
    "# Test the function\n",
    "arr = [1, 2, 3, 4, 5]\n",
    "k = 2\n",
    "rotated_array = rotate_array(arr, k)\n",
    "for number in rotated_array:\n",
    "    print(number)"
   ]
  },
  {
   "cell_type": "code",
   "execution_count": null,
   "id": "66f4520b",
   "metadata": {},
   "outputs": [],
   "source": []
  }
 ],
 "metadata": {
  "kernelspec": {
   "display_name": "myen",
   "language": "python",
   "name": "python3"
  },
  "language_info": {
   "codemirror_mode": {
    "name": "ipython",
    "version": 3
   },
   "file_extension": ".py",
   "mimetype": "text/x-python",
   "name": "python",
   "nbconvert_exporter": "python",
   "pygments_lexer": "ipython3",
   "version": "3.12.9"
  }
 },
 "nbformat": 4,
 "nbformat_minor": 5
}
