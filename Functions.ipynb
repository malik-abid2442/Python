{
 "cells": [
  {
   "cell_type": "markdown",
   "id": "91423b6c",
   "metadata": {},
   "source": [
    "# Functions From Beginners to Experts"
   ]
  },
  {
   "cell_type": "code",
   "execution_count": 1,
   "id": "ca98d7fe",
   "metadata": {},
   "outputs": [
    {
     "name": "stdout",
     "output_type": "stream",
     "text": [
      "25\n"
     ]
    }
   ],
   "source": [
    "def number_square(number):\n",
    "    return number ** 2\n",
    "\n",
    "print(number_square(5))"
   ]
  },
  {
   "cell_type": "code",
   "execution_count": 2,
   "id": "f1540d55",
   "metadata": {},
   "outputs": [
    {
     "name": "stdout",
     "output_type": "stream",
     "text": [
      "Hello, Alice!\n"
     ]
    }
   ],
   "source": [
    "def greet(name):\n",
    "    print(f\"Hello, {name}!\")\n",
    "greet(\"Alice\")"
   ]
  },
  {
   "cell_type": "code",
   "execution_count": 4,
   "id": "48d626ea",
   "metadata": {},
   "outputs": [
    {
     "name": "stdout",
     "output_type": "stream",
     "text": [
      "7\n"
     ]
    }
   ],
   "source": [
    "def add(a,b):\n",
    "    return a + b\n",
    "print(add(3, 4))"
   ]
  },
  {
   "cell_type": "code",
   "execution_count": 6,
   "id": "ac7f8c84",
   "metadata": {},
   "outputs": [
    {
     "name": "stdout",
     "output_type": "stream",
     "text": [
      "Odd\n"
     ]
    }
   ],
   "source": [
    "def number(number):\n",
    "    if number%2==0:\n",
    "        print(\"Even\")\n",
    "    else:\n",
    "        print(\"Odd\")\n",
    "number(9)"
   ]
  },
  {
   "cell_type": "code",
   "execution_count": 14,
   "id": "f05a12a8",
   "metadata": {},
   "outputs": [
    {
     "name": "stdout",
     "output_type": "stream",
     "text": [
      "3\n"
     ]
    }
   ],
   "source": [
    "def max_of_two(x, y):\n",
    "    return x if x > y else y\n",
    "\n",
    "def max_number(a, b, c):\n",
    "    return max_of_two(a, max_of_two(b, c))\n",
    "\n",
    "print(max_number(1, 2, 3))  # Output: 3\n"
   ]
  },
  {
   "cell_type": "code",
   "execution_count": 21,
   "id": "00467a1c",
   "metadata": {},
   "outputs": [
    {
     "name": "stdout",
     "output_type": "stream",
     "text": [
      "24\n"
     ]
    }
   ],
   "source": [
    "def factorial(number):\n",
    "    if number == 0:\n",
    "        return 1\n",
    "    elif number < 0:\n",
    "        raise ValueError(\"Factorial is not defined for negative numbers\")\n",
    "    else:\n",
    "        return number * factorial(number - 1)\n",
    "    \n",
    "print(factorial(4))  # Output: 120"
   ]
  },
  {
   "cell_type": "code",
   "execution_count": 24,
   "id": "a4a8c8ab",
   "metadata": {},
   "outputs": [
    {
     "name": "stdout",
     "output_type": "stream",
     "text": [
      "10\n"
     ]
    }
   ],
   "source": [
    "def number_cube(number):\n",
    "    return sum(number)\n",
    "print(number_cube([1, 2, 3,0,4]))  # Output: 10"
   ]
  },
  {
   "cell_type": "code",
   "execution_count": 46,
   "id": "8f6896a2",
   "metadata": {},
   "outputs": [
    {
     "name": "stdout",
     "output_type": "stream",
     "text": [
      "olleh\n"
     ]
    }
   ],
   "source": [
    "\n",
    "def reverse_string(s):\n",
    "    return s[::-1]\n",
    "\n",
    "print(reverse_string(\"hello\"))  # Output: \"olleh\"\n",
    "    "
   ]
  },
  {
   "cell_type": "code",
   "execution_count": 48,
   "id": "5367a12c",
   "metadata": {},
   "outputs": [
    {
     "name": "stdout",
     "output_type": "stream",
     "text": [
      "madam\n"
     ]
    }
   ],
   "source": [
    "def pd(a):\n",
    "    return a [::-1]\n",
    "print(pd(\"madam\"))  # Output: \"madam\""
   ]
  },
  {
   "cell_type": "code",
   "execution_count": 54,
   "id": "9a40766e",
   "metadata": {},
   "outputs": [
    {
     "name": "stdout",
     "output_type": "stream",
     "text": [
      "[2, 4, 6]\n"
     ]
    }
   ],
   "source": [
    "a = []\n",
    "def check(num):\n",
    "    for number in num:\n",
    "        if number % 2 == 0:\n",
    "            a.append(number)\n",
    "    return a\n",
    "        \n",
    "    \n",
    "\n",
    "check([1, 2, 3, 4, 5,6])\n",
    "print(a)"
   ]
  },
  {
   "cell_type": "code",
   "execution_count": 56,
   "id": "9d25ef3a",
   "metadata": {},
   "outputs": [
    {
     "name": "stdout",
     "output_type": "stream",
     "text": [
      "['e', 'o']\n",
      "2\n"
     ]
    }
   ],
   "source": [
    "word = \"hello\"\n",
    "vovel = []\n",
    "def count_vowels(s):\n",
    "    vowels = \"aeiouAEIOU\"\n",
    "    count = 0\n",
    "    for char in s:\n",
    "        if char in vowels:\n",
    "            count += 1\n",
    "            vovel.append(char)\n",
    "    print(vovel)\n",
    "    return count\n",
    "print(count_vowels(word))  # Output: 2"
   ]
  },
  {
   "cell_type": "code",
   "execution_count": 68,
   "id": "3867119e",
   "metadata": {},
   "outputs": [
    {
     "name": "stdout",
     "output_type": "stream",
     "text": [
      "ahmad\n"
     ]
    }
   ],
   "source": [
    "import pandas as pd\n",
    "s = ['abid','ahmad','ali']\n",
    "def name(names):\n",
    "    long = ''\n",
    "    for n in names:\n",
    "        \n",
    "        words = n.split()\n",
    "        \n",
    "        for word in words:\n",
    "            if len(word) > len(long):\n",
    "                long = word\n",
    "    return long\n",
    "                \n",
    "\n",
    "print(name(s))  # Output: 'ahmad'\n",
    "# Output: abid, ahmad, ali"
   ]
  },
  {
   "cell_type": "code",
   "execution_count": null,
   "id": "0882f6c4",
   "metadata": {},
   "outputs": [
    {
     "name": "stdout",
     "output_type": "stream",
     "text": [
      "ahmad\n"
     ]
    }
   ],
   "source": [
    "import pandas as pd\n",
    "s = ['abid','ahmad','ali']\n",
    "def name(names):\n",
    "    long = ''\n",
    "    for n in names:\n",
    "        if len(n) > len(long):\n",
    "            long = n\n",
    "    return long\n",
    "                \n",
    "\n",
    "print(name(s))"
   ]
  },
  {
   "cell_type": "code",
   "execution_count": 70,
   "id": "f6d09dd0",
   "metadata": {},
   "outputs": [
    {
     "name": "stdout",
     "output_type": "stream",
     "text": [
      "[0, 1, 1, 2, 3, 5, 8, 13, 21, 34]\n"
     ]
    }
   ],
   "source": [
    "# Fibonacci sequence\n",
    "def fibonacci(n):\n",
    "    if n <= 0:\n",
    "        return []\n",
    "    elif n == 1:\n",
    "        return [0]\n",
    "    elif n == 2:\n",
    "        return [0, 1]\n",
    "    \n",
    "    fib_sequence = [0, 1]\n",
    "    for i in range(2, n):\n",
    "        next_value = fib_sequence[i - 1] + fib_sequence[i - 2]\n",
    "        fib_sequence.append(next_value)\n",
    "    \n",
    "    return fib_sequence\n",
    "print(fibonacci(10))  # Output: [0, 1, 1, 2, 3, 5, 8, 13, 21, 34]"
   ]
  },
  {
   "cell_type": "code",
   "execution_count": 72,
   "id": "ea74490b",
   "metadata": {},
   "outputs": [
    {
     "name": "stdout",
     "output_type": "stream",
     "text": [
      "{1: 'a', 2: 'b', 3: 'c'}\n"
     ]
    }
   ],
   "source": [
    "new = dict()\n",
    "def value(n):\n",
    "    for key,values in n:\n",
    "        new[values] = key\n",
    "    return new\n",
    "value([('a', 1), ('b', 2), ('c', 3)])  # Output: {1: 'a', 2: 'b', 3: 'c'}\n",
    "print(new)\n",
    "        "
   ]
  },
  {
   "cell_type": "code",
   "execution_count": 77,
   "id": "85d3fe4c",
   "metadata": {},
   "outputs": [
    {
     "name": "stdout",
     "output_type": "stream",
     "text": [
      "True\n"
     ]
    }
   ],
   "source": [
    "def values(n):\n",
    "    if sorted(n):\n",
    "        return True\n",
    "    else:\n",
    "        return False\n",
    "print(values([1, 2, 3, 4, 5]))  # Output: True"
   ]
  },
  {
   "cell_type": "code",
   "execution_count": 76,
   "id": "40af0d7b",
   "metadata": {},
   "outputs": [
    {
     "name": "stdout",
     "output_type": "stream",
     "text": [
      "True\n"
     ]
    }
   ],
   "source": [
    "# Write a function that takes a list of integers and returns True if the list is sorted in ascending order.\n",
    "def is_sorted(lst):\n",
    "    return lst == sorted(lst)\n",
    "print(is_sorted([1, 2, 3, 4, 5]))  # Output: True"
   ]
  },
  {
   "cell_type": "code",
   "execution_count": 78,
   "id": "d71e3c82",
   "metadata": {},
   "outputs": [
    {
     "name": "stdout",
     "output_type": "stream",
     "text": [
      "{'This', 'test.', 'a', 'is', 'only', 'test'}\n"
     ]
    }
   ],
   "source": [
    "# Create a function that calculates the number of unique words in a paragraph.\n",
    "\n",
    "def count_unique_words(paragraph):\n",
    "    words = paragraph.split()\n",
    "    unique_words = set(words)\n",
    "    return unique_words\n",
    "print(count_unique_words(\"This is a test. This test is only a test.\"))  # Output: 7"
   ]
  },
  {
   "cell_type": "code",
   "execution_count": 79,
   "id": "35abaab3",
   "metadata": {},
   "outputs": [
    {
     "name": "stdout",
     "output_type": "stream",
     "text": [
      "50\n"
     ]
    }
   ],
   "source": [
    "option = 3\n",
    "def cal(a,b):\n",
    "    if option == 1:\n",
    "        return a + b\n",
    "    elif option == 2:\n",
    "        return a - b\n",
    "    elif option == 3:\n",
    "        return a * b\n",
    "    elif option == 4:\n",
    "        return a / b\n",
    "    else:\n",
    "        return None\n",
    "print(cal(10, 5))  # Output: 50 (since option is 3, it multiplies 10 and 5)"
   ]
  },
  {
   "cell_type": "code",
   "execution_count": 81,
   "id": "fa09d228",
   "metadata": {},
   "outputs": [
    {
     "name": "stdout",
     "output_type": "stream",
     "text": [
      "[[1, 4, 7], [2, 5, 8], [3, 6, 9]]\n"
     ]
    }
   ],
   "source": [
    "# Write a function that accepts a matrix (2D list) and returns its transpose.\n",
    "\n",
    "def transpose(matrix):\n",
    "    return [[row[i] for row in matrix] for i in range(len(matrix[0]))]\n",
    "\n",
    "matrix = [[1, 2, 3], [4, 5, 6], [7, 8, 9]]\n",
    "print(transpose(matrix))"
   ]
  },
  {
   "cell_type": "code",
   "execution_count": null,
   "id": "4ab34f6b",
   "metadata": {},
   "outputs": [],
   "source": []
  }
 ],
 "metadata": {
  "kernelspec": {
   "display_name": "base",
   "language": "python",
   "name": "python3"
  },
  "language_info": {
   "codemirror_mode": {
    "name": "ipython",
    "version": 3
   },
   "file_extension": ".py",
   "mimetype": "text/x-python",
   "name": "python",
   "nbconvert_exporter": "python",
   "pygments_lexer": "ipython3",
   "version": "3.12.7"
  }
 },
 "nbformat": 4,
 "nbformat_minor": 5
}
