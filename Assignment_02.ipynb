{
 "cells": [
  {
   "cell_type": "markdown",
   "id": "3a807113",
   "metadata": {},
   "source": [
    "# String Manipulation \n"
   ]
  },
  {
   "cell_type": "code",
   "execution_count": 19,
   "id": "d7d1b3c9",
   "metadata": {},
   "outputs": [
    {
     "name": "stdout",
     "output_type": "stream",
     "text": [
      "ho\n"
     ]
    }
   ],
   "source": [
    "word = \"hello\"\n",
    "new_word = word[0]+word[-1]\n",
    "print(new_word)"
   ]
  },
  {
   "cell_type": "code",
   "execution_count": 23,
   "id": "c1a7be0b",
   "metadata": {},
   "outputs": [
    {
     "name": "stdout",
     "output_type": "stream",
     "text": [
      "hio\n"
     ]
    }
   ],
   "source": [
    "# 1. Write a program to create a new string made of an input string’s first,\n",
    "# middle, and last character.\n",
    "\n",
    "word = \"heilo\"\n",
    "new_word = word[0]+word[len(word)//2]+word[-1]\n",
    "print(new_word)\n"
   ]
  },
  {
   "cell_type": "code",
   "execution_count": 27,
   "id": "1fd791d8",
   "metadata": {},
   "outputs": [
    {
     "name": "stdout",
     "output_type": "stream",
     "text": [
      "2\n"
     ]
    }
   ],
   "source": [
    "# Use the built-in str.count() method to count occurrences of a substring\n",
    "print(\"hello\".count(\"l\"))"
   ]
  },
  {
   "cell_type": "code",
   "execution_count": 28,
   "id": "8e223b6a",
   "metadata": {},
   "outputs": [
    {
     "name": "stdout",
     "output_type": "stream",
     "text": [
      "dlroW olleH\n"
     ]
    }
   ],
   "source": [
    "words = \"Hello World\"\n",
    "print(words[::-1])"
   ]
  },
  {
   "cell_type": "code",
   "execution_count": 29,
   "id": "b2f282bd",
   "metadata": {},
   "outputs": [
    {
     "name": "stdout",
     "output_type": "stream",
     "text": [
      "['Hello', 'World']\n"
     ]
    }
   ],
   "source": [
    "my_string = \"Hello-World\"\n",
    "print(my_string.split(\"-\"))"
   ]
  },
  {
   "cell_type": "code",
   "execution_count": 34,
   "id": "10608431",
   "metadata": {},
   "outputs": [
    {
     "name": "stdout",
     "output_type": "stream",
     "text": [
      "who are you\n"
     ]
    }
   ],
   "source": [
    "line = \"who are you?\"\n",
    "print(line.replace('?', ''))"
   ]
  },
  {
   "cell_type": "markdown",
   "id": "3d29998c",
   "metadata": {},
   "source": [
    "# List Manipulation \n"
   ]
  },
  {
   "cell_type": "code",
   "execution_count": 35,
   "id": "ab2e8b1a",
   "metadata": {},
   "outputs": [
    {
     "name": "stdout",
     "output_type": "stream",
     "text": [
      "[3, 2, 1]\n"
     ]
    }
   ],
   "source": [
    "l1 = [1, 2, 3]\n",
    "print(l1[::-1])"
   ]
  },
  {
   "cell_type": "code",
   "execution_count": 37,
   "id": "974cfb45",
   "metadata": {},
   "outputs": [
    {
     "name": "stdout",
     "output_type": "stream",
     "text": [
      "[1, 4, 9]\n"
     ]
    }
   ],
   "source": [
    "l1 = list(map(lambda x: x**2, l1))\n",
    "print(l1)"
   ]
  },
  {
   "cell_type": "code",
   "execution_count": 38,
   "id": "9ce784ec",
   "metadata": {},
   "outputs": [
    {
     "name": "stdout",
     "output_type": "stream",
     "text": [
      "['abid', 'ali', 'khan']\n"
     ]
    }
   ],
   "source": [
    "l2 = ['abid', 'ali', 'khan','']\n",
    "l2 = list(filter(lambda x: len(x) > 0, l2))\n",
    "print(l2)"
   ]
  },
  {
   "cell_type": "code",
   "execution_count": 39,
   "id": "1246dea9",
   "metadata": {},
   "outputs": [
    {
     "name": "stdout",
     "output_type": "stream",
     "text": [
      "Found 3 in the list\n",
      "[1, 2, 100, 3, 4, 5]\n"
     ]
    }
   ],
   "source": [
    "li = [1, 2, 3, 4, 5]\n",
    "n = 3\n",
    "for i in li:\n",
    "    if i == n:\n",
    "        print(f\"Found {n} in the list\")\n",
    "        li.insert(li.index(i), 100)\n",
    "        print(li)\n",
    "        break"
   ]
  },
  {
   "cell_type": "code",
   "execution_count": 40,
   "id": "d7ec0224",
   "metadata": {},
   "outputs": [
    {
     "name": "stdout",
     "output_type": "stream",
     "text": [
      "Found 30 in the dictionary with key 'age'\n"
     ]
    }
   ],
   "source": [
    "dic = {'name': 'John', 'age': 30, 'city': 'New York'}\n",
    "n = 30\n",
    "for key,value in dic.items():\n",
    "    if value == n:\n",
    "        print(f\"Found {n} in the dictionary with key '{key}'\")\n",
    "        \n",
    "        break"
   ]
  },
  {
   "cell_type": "code",
   "execution_count": null,
   "id": "31ef9663",
   "metadata": {},
   "outputs": [
    {
     "name": "stdout",
     "output_type": "stream",
     "text": [
      "0\n"
     ]
    }
   ],
   "source": [
    "dict1 = {'a': 1, 'b': 2, 'c': 3}\n",
    "for key, value in dict1.items():\n",
    "    if value < min:\n",
    "        min = value\n",
    "print(min)"
   ]
  },
  {
   "cell_type": "code",
   "execution_count": 53,
   "id": "878e8ec6",
   "metadata": {},
   "outputs": [
    {
     "name": "stdout",
     "output_type": "stream",
     "text": [
      "b\n"
     ]
    }
   ],
   "source": [
    "# 2. Get the key of a minimum value from the following dictionary\n",
    "dict2 = {'a': 5, 'b': 2, 'c': 8} \n",
    "\n",
    "min_key = min(dict2, key=dict2.get)\n",
    "print(min_key)"
   ]
  },
  {
   "cell_type": "code",
   "execution_count": 56,
   "id": "5f61326c",
   "metadata": {},
   "outputs": [
    {
     "name": "stdout",
     "output_type": "stream",
     "text": [
      "{'b': 2}\n"
     ]
    }
   ],
   "source": [
    "dict1 = {'a': 1, 'b': 2, 'c': 3}\n",
    "l1 = ['a','c']\n",
    "\n",
    "for key in list(dict1.keys()):\n",
    "    if key in l1:\n",
    "        del dict1[key]\n",
    "        \n",
    "print(dict1)"
   ]
  },
  {
   "cell_type": "code",
   "execution_count": 57,
   "id": "c20500e4",
   "metadata": {},
   "outputs": [
    {
     "name": "stdout",
     "output_type": "stream",
     "text": [
      "{'b': 2}\n"
     ]
    }
   ],
   "source": [
    "dict1 = {'a': 1, 'b': 2, 'c': 3}\n",
    "l1 = ['a','c']\n",
    "\n",
    "for key in list(dict1.keys()):\n",
    "    for i in l1:\n",
    "        if key == i:\n",
    "            del dict1[key]\n",
    "            \n",
    "print(dict1)"
   ]
  },
  {
   "cell_type": "code",
   "execution_count": null,
   "id": "ef5f7e1f",
   "metadata": {},
   "outputs": [
    {
     "name": "stdout",
     "output_type": "stream",
     "text": [
      "(6, 7, 8, 9, 10)\n",
      "(6, 7, 8, 9, 10)\n"
     ]
    }
   ],
   "source": [
    "tuple1 = (1, 2, 3, 4, 5)\n",
    "tuple2 = (6, 7, 8, 9, 10)\n",
    "tuple1 = tuple2\n",
    "tuple2 = tuple1\n",
    "print(tuple1)\n",
    "print(tuple2)"
   ]
  },
  {
   "cell_type": "code",
   "execution_count": 60,
   "id": "2d832b9e",
   "metadata": {},
   "outputs": [
    {
     "name": "stdout",
     "output_type": "stream",
     "text": [
      "Tuple 1: (4, 5, 6)\n",
      "Tuple 2: (1, 2, 3)\n"
     ]
    }
   ],
   "source": [
    "# 3. Swap two tuples in Python\n",
    "tuple1 = (1, 2, 3)\n",
    "tuple2 = (4, 5, 6)\n",
    "tuple1, tuple2 = tuple2, tuple1\n",
    "print(\"Tuple 1:\", tuple1)   \n",
    "print(\"Tuple 2:\", tuple2)"
   ]
  },
  {
   "cell_type": "code",
   "execution_count": null,
   "id": "7ee4ea72",
   "metadata": {},
   "outputs": [],
   "source": []
  }
 ],
 "metadata": {
  "kernelspec": {
   "display_name": "base",
   "language": "python",
   "name": "python3"
  },
  "language_info": {
   "codemirror_mode": {
    "name": "ipython",
    "version": 3
   },
   "file_extension": ".py",
   "mimetype": "text/x-python",
   "name": "python",
   "nbconvert_exporter": "python",
   "pygments_lexer": "ipython3",
   "version": "3.12.7"
  }
 },
 "nbformat": 4,
 "nbformat_minor": 5
}
