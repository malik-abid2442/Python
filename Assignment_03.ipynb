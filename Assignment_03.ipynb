{
 "cells": [
  {
   "cell_type": "markdown",
   "id": "b2b3145e",
   "metadata": {},
   "source": [
    "# Week 1 – Assignment 3"
   ]
  },
  {
   "cell_type": "markdown",
   "id": "83a2bbf5",
   "metadata": {},
   "source": [
    "# String manipulation: \n"
   ]
  },
  {
   "cell_type": "code",
   "execution_count": 1,
   "id": "128812fc",
   "metadata": {},
   "outputs": [
    {
     "name": "stdout",
     "output_type": "stream",
     "text": [
      "The word is not a palindrome\n"
     ]
    }
   ],
   "source": [
    "word = 'abc'\n",
    "if word == word[::-1]:\n",
    "    print('The word is a palindrome')\n",
    "else:\n",
    "    print('The word is not a palindrome')"
   ]
  },
  {
   "cell_type": "code",
   "execution_count": null,
   "id": "afdcd0bf",
   "metadata": {},
   "outputs": [
    {
     "name": "stdout",
     "output_type": "stream",
     "text": [
      "The string is a pangram\n"
     ]
    }
   ],
   "source": [
    "# Python Program to Check if a String is a Pangram or Not [The program takes a string and checksif it is a pangram or not.]\n",
    "import string\n",
    "def is_pangram(s):\n",
    "    alphabet = set(string.ascii_lowercase)\n",
    "    return alphabet <= set(s.lower())\n",
    "pangram_string = \"The quick brown fox jumps over the lazy dog\"\n",
    "if is_pangram(pangram_string):\n",
    "    print(\"The string is a pangram\")\n",
    "else:\n",
    "    print(\"The string is not a pangram\")"
   ]
  },
  {
   "cell_type": "code",
   "execution_count": 3,
   "id": "fea1e55e",
   "metadata": {},
   "outputs": [
    {
     "name": "stdout",
     "output_type": "stream",
     "text": [
      "Malik_Abid\n"
     ]
    }
   ],
   "source": [
    "name = \"Malik Abid\"\n",
    "print(name.replace(' ', '_'))"
   ]
  },
  {
   "cell_type": "code",
   "execution_count": 4,
   "id": "3d14738d",
   "metadata": {},
   "outputs": [
    {
     "name": "stdout",
     "output_type": "stream",
     "text": [
      "abc and xyz are of equal length\n"
     ]
    }
   ],
   "source": [
    "a = 'abc'\n",
    "b = 'xyz'\n",
    "if len(a)> len(b):\n",
    "    print(f\"{a} is longer than {b}\")\n",
    "elif len(a) < len(b):\n",
    "    print(f\"{b} is longer than {a}\")\n",
    "else:\n",
    "    print(f\"{a} and {b} are of equal length\")"
   ]
  },
  {
   "cell_type": "code",
   "execution_count": 9,
   "id": "10e9ca78",
   "metadata": {},
   "outputs": [
    {
     "name": "stdout",
     "output_type": "stream",
     "text": [
      "Letters in abc but not in abd: c\n",
      "Letters in abd but not in abc: d\n"
     ]
    }
   ],
   "source": [
    "word1 = 'abc'\n",
    "word2 = 'abd'\n",
    "\n",
    "# for i in word1:\n",
    "#     for j in word2:\n",
    "#         if i != j:\n",
    "\n",
    "# This is a Python Program to display which letters are in the two strings but not in both\n",
    "for i in word1:\n",
    "    if i not in word2:\n",
    "        print(f\"Letters in {word1} but not in {word2}: {i}\")\n",
    "for j in word2:\n",
    "    if j not in word1:\n",
    "        print(f\"Letters in {word2} but not in {word1}: {j}\")\n"
   ]
  },
  {
   "cell_type": "code",
   "execution_count": 10,
   "id": "21ed2fe9",
   "metadata": {},
   "outputs": [
    {
     "name": "stdout",
     "output_type": "stream",
     "text": [
      "Uppercase letter in Aabc: A\n",
      "Lowercase letter in Aabc: a\n",
      "Lowercase letter in Aabc: b\n",
      "Lowercase letter in Aabc: c\n"
     ]
    }
   ],
   "source": [
    "word3 = 'Aabc'\n",
    "for i in word3:\n",
    "    if i.isupper():\n",
    "        print(f\"Uppercase letter in {word3}: {i}\")\n",
    "    elif i.islower():\n",
    "        print(f\"Lowercase letter in {word3}: {i}\")\n",
    "    else:\n",
    "        print(f\"Non-alphabetic character in {word3}: {i}\")"
   ]
  },
  {
   "cell_type": "code",
   "execution_count": 13,
   "id": "ecd272f7",
   "metadata": {},
   "outputs": [
    {
     "name": "stdout",
     "output_type": "stream",
     "text": [
      "Listen and Silent are anagrams.\n"
     ]
    }
   ],
   "source": [
    "# Python Program to Check if Two Strings are Anagram. [An anagram in Python is a pair of strings\n",
    "# that have the same characters, but in a different order. It involves rearranging the letters of one\n",
    "# string to form the other]\n",
    "def are_anagrams(str1, str2):\n",
    "    # Remove spaces and convert to lowercase\n",
    "    str1 = str1.replace(\" \", \"\").lower()\n",
    "    str2 = str2.replace(\" \", \"\").lower()\n",
    "    # Sort the characters and compare\n",
    "    return sorted(str1) == sorted(str2)\n",
    "\n",
    "# Example usage\n",
    "string1 = \"Listen\"\n",
    "string2 = \"Silent\"\n",
    "if are_anagrams(string1, string2):\n",
    "    print(f\"{string1} and {string2} are anagrams.\")\n",
    "else:\n",
    "    print(f\"{string1} and {string2} are not anagrams.\")"
   ]
  },
  {
   "cell_type": "code",
   "execution_count": 14,
   "id": "16328964",
   "metadata": {},
   "outputs": [
    {
     "name": "stdout",
     "output_type": "stream",
     "text": [
      "'Raza' is a substring of 'Abid Raza'\n"
     ]
    }
   ],
   "source": [
    "s1 = 'Abid Raza'\n",
    "s2 = 'Raza'\n",
    "if s2 in s1:\n",
    "    print(f\"'{s2}' is a substring of '{s1}'\")"
   ]
  },
  {
   "cell_type": "code",
   "execution_count": 15,
   "id": "fed59336",
   "metadata": {},
   "outputs": [
    {
     "name": "stdout",
     "output_type": "stream",
     "text": [
      "The length of 'Raza' is 4 characters.\n"
     ]
    }
   ],
   "source": [
    "count = 0\n",
    "for i in s2:\n",
    "    count += 1\n",
    "print(f\"The length of '{s2}' is {count} characters.\")"
   ]
  },
  {
   "cell_type": "code",
   "execution_count": 18,
   "id": "0ef14838",
   "metadata": {},
   "outputs": [
    {
     "name": "stdout",
     "output_type": "stream",
     "text": [
      "The original name formed by the first letter of 'Abid' and the last letter of 'Raza' is: Abza\n"
     ]
    }
   ],
   "source": [
    "name1 = \"Abid\"\n",
    "name2 = \"Raza\"\n",
    "original_name = name1[0:2] + name2[-2:]\n",
    "print(f\"The original name formed by the first letter of '{name1}' and the last letter of '{name2}' is: {original_name}\")"
   ]
  },
  {
   "cell_type": "code",
   "execution_count": null,
   "id": "677feb92",
   "metadata": {},
   "outputs": [],
   "source": []
  },
  {
   "cell_type": "code",
   "execution_count": null,
   "id": "0ce7aeeb",
   "metadata": {},
   "outputs": [],
   "source": []
  }
 ],
 "metadata": {
  "kernelspec": {
   "display_name": "base",
   "language": "python",
   "name": "python3"
  },
  "language_info": {
   "codemirror_mode": {
    "name": "ipython",
    "version": 3
   },
   "file_extension": ".py",
   "mimetype": "text/x-python",
   "name": "python",
   "nbconvert_exporter": "python",
   "pygments_lexer": "ipython3",
   "version": "3.12.7"
  }
 },
 "nbformat": 4,
 "nbformat_minor": 5
}
